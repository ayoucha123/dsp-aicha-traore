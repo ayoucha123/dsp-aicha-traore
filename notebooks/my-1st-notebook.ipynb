{
 "cells": [
  {
   "cell_type": "code",
   "execution_count": null,
   "id": "00f8fc65",
   "metadata": {},
   "outputs": [],
   "source": [
    "pip install numpy"
   ]
  },
  {
   "cell_type": "code",
   "execution_count": 2,
   "id": "61adc98f",
   "metadata": {},
   "outputs": [],
   "source": [
    "import numpy as np"
   ]
  },
  {
   "cell_type": "code",
   "execution_count": 4,
   "id": "55ed7800",
   "metadata": {},
   "outputs": [],
   "source": [
    "array=np.random.rand(10,3)"
   ]
  },
  {
   "cell_type": "code",
   "execution_count": 5,
   "id": "367d4fa8",
   "metadata": {},
   "outputs": [
    {
     "name": "stdout",
     "output_type": "stream",
     "text": [
      "[[0.75663394 0.65155123 0.18359535]\n",
      " [0.94595156 0.8115512  0.64297396]\n",
      " [0.66140814 0.42145489 0.8116005 ]\n",
      " [0.04261249 0.6572613  0.64778206]\n",
      " [0.4189705  0.57263815 0.85136777]\n",
      " [0.19941063 0.90371781 0.89419551]\n",
      " [0.91771871 0.25213038 0.85196165]\n",
      " [0.4835017  0.97689316 0.05183483]\n",
      " [0.87310181 0.39873516 0.16327984]\n",
      " [0.51479459 0.2612269  0.45991702]]\n"
     ]
    }
   ],
   "source": [
    "print(array)"
   ]
  },
  {
   "cell_type": "code",
   "execution_count": null,
   "id": "ae93e195",
   "metadata": {},
   "outputs": [],
   "source": []
  }
 ],
 "metadata": {
  "kernelspec": {
   "display_name": "Python 3 (ipykernel)",
   "language": "python",
   "name": "python3"
  },
  "language_info": {
   "codemirror_mode": {
    "name": "ipython",
    "version": 3
   },
   "file_extension": ".py",
   "mimetype": "text/x-python",
   "name": "python",
   "nbconvert_exporter": "python",
   "pygments_lexer": "ipython3",
   "version": "3.9.16"
  }
 },
 "nbformat": 4,
 "nbformat_minor": 5
}
