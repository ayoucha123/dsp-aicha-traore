{
 "cells": [
  {
   "cell_type": "code",
   "execution_count": 4,
   "id": "0f3d1bf1",
   "metadata": {},
   "outputs": [
    {
     "name": "stdout",
     "output_type": "stream",
     "text": [
      "Collecting numpyNote: you may need to restart the kernel to use updated packages.\n",
      "\n",
      "  Using cached numpy-1.24.2-cp39-cp39-win_amd64.whl (14.9 MB)\n",
      "Installing collected packages: numpy\n",
      "Successfully installed numpy-1.24.2\n"
     ]
    }
   ],
   "source": [
    "pip install numpy"
   ]
  },
  {
   "cell_type": "code",
   "execution_count": 5,
   "id": "90f6608c",
   "metadata": {},
   "outputs": [],
   "source": [
    "import numpy as np"
   ]
  },
  {
   "cell_type": "code",
   "execution_count": 9,
   "id": "ee245583",
   "metadata": {},
   "outputs": [],
   "source": [
    "array = np.random.rand(10,3)"
   ]
  },
  {
   "cell_type": "code",
   "execution_count": 10,
   "id": "f19ba946",
   "metadata": {},
   "outputs": [
    {
     "name": "stdout",
     "output_type": "stream",
     "text": [
      "[[0.96239535 0.12777557 0.22754434]\n",
      " [0.30472697 0.39528473 0.80559958]\n",
      " [0.26757646 0.94559425 0.02392561]\n",
      " [0.48353815 0.10210515 0.84825975]\n",
      " [0.3663779  0.97366373 0.67615509]\n",
      " [0.66229974 0.82476835 0.04352891]\n",
      " [0.1280611  0.64529359 0.69068593]\n",
      " [0.3423781  0.85243662 0.30881987]\n",
      " [0.3489391  0.73968686 0.6024645 ]\n",
      " [0.76591477 0.33140083 0.87697017]]\n"
     ]
    }
   ],
   "source": [
    "print(array)"
   ]
  }
 ],
 "metadata": {
  "kernelspec": {
   "display_name": "Python 3 (ipykernel)",
   "language": "python",
   "name": "python3"
  },
  "language_info": {
   "codemirror_mode": {
    "name": "ipython",
    "version": 3
   },
   "file_extension": ".py",
   "mimetype": "text/x-python",
   "name": "python",
   "nbconvert_exporter": "python",
   "pygments_lexer": "ipython3",
   "version": "3.9.16"
  }
 },
 "nbformat": 4,
 "nbformat_minor": 5
}
